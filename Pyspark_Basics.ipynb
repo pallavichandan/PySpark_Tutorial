{
  "cells": [
    {
      "cell_type": "markdown",
      "metadata": {
        "id": "view-in-github",
        "colab_type": "text"
      },
      "source": [
        "<a href=\"https://colab.research.google.com/github/pallavichandan/PySpark_Tutorial/blob/basics/Pyspark_Basics.ipynb\" target=\"_parent\"><img src=\"https://colab.research.google.com/assets/colab-badge.svg\" alt=\"Open In Colab\"/></a>"
      ]
    },
    {
      "cell_type": "markdown",
      "source": [
        "installing and importing PySpark"
      ],
      "metadata": {
        "id": "_lg0iSEhICs8"
      },
      "id": "_lg0iSEhICs8"
    },
    {
      "cell_type": "code",
      "execution_count": 1,
      "id": "f8794e79-f996-4fc1-af3d-6c878054314a",
      "metadata": {
        "id": "f8794e79-f996-4fc1-af3d-6c878054314a",
        "colab": {
          "base_uri": "https://localhost:8080/"
        },
        "outputId": "14e9d629-09b4-4de0-de6a-a0c055d79967"
      },
      "outputs": [
        {
          "output_type": "stream",
          "name": "stdout",
          "text": [
            "Collecting pyspark\n",
            "  Downloading pyspark-3.5.1.tar.gz (317.0 MB)\n",
            "\u001b[2K     \u001b[90m━━━━━━━━━━━━━━━━━━━━━━━━━━━━━━━━━━━━━━━━\u001b[0m \u001b[32m317.0/317.0 MB\u001b[0m \u001b[31m4.0 MB/s\u001b[0m eta \u001b[36m0:00:00\u001b[0m\n",
            "\u001b[?25h  Preparing metadata (setup.py) ... \u001b[?25l\u001b[?25hdone\n",
            "Requirement already satisfied: py4j==0.10.9.7 in /usr/local/lib/python3.10/dist-packages (from pyspark) (0.10.9.7)\n",
            "Building wheels for collected packages: pyspark\n",
            "  Building wheel for pyspark (setup.py) ... \u001b[?25l\u001b[?25hdone\n",
            "  Created wheel for pyspark: filename=pyspark-3.5.1-py2.py3-none-any.whl size=317488491 sha256=5faf03079da5b708269b1fe3d9cee395d411103130885c67177ee32896ebbe49\n",
            "  Stored in directory: /root/.cache/pip/wheels/80/1d/60/2c256ed38dddce2fdd93be545214a63e02fbd8d74fb0b7f3a6\n",
            "Successfully built pyspark\n",
            "Installing collected packages: pyspark\n",
            "Successfully installed pyspark-3.5.1\n"
          ]
        }
      ],
      "source": [
        "# !pip install pyspark\n",
        "import pyspark"
      ]
    },
    {
      "cell_type": "code",
      "execution_count": 10,
      "id": "de05dbeb-243b-471f-95fc-8d8e80a68824",
      "metadata": {
        "id": "de05dbeb-243b-471f-95fc-8d8e80a68824"
      },
      "outputs": [],
      "source": [
        "from pyspark.sql import SparkSession"
      ]
    },
    {
      "cell_type": "code",
      "execution_count": 3,
      "id": "d5831d87-4549-47e2-acb2-cff1fb361e6d",
      "metadata": {
        "id": "d5831d87-4549-47e2-acb2-cff1fb361e6d"
      },
      "outputs": [],
      "source": [
        "spark = SparkSession.builder.appName(\"practice\").getOrCreate()"
      ]
    },
    {
      "cell_type": "markdown",
      "source": [
        "Creating PySpark DataFrame"
      ],
      "metadata": {
        "id": "Rp4uJXkaKKNm"
      },
      "id": "Rp4uJXkaKKNm"
    },
    {
      "cell_type": "code",
      "execution_count": null,
      "id": "29ebbf70-fe15-477b-ac82-495bfe464109",
      "metadata": {
        "id": "29ebbf70-fe15-477b-ac82-495bfe464109"
      },
      "outputs": [],
      "source": [
        "data = [(1,\"John\",\"NY\"),(2,\"Alan\",\"DC\"),(3,\"Dabby\",\"NJ\"),(4,\"Joey\",\"NY\")]"
      ]
    },
    {
      "cell_type": "code",
      "execution_count": null,
      "id": "4607da17-7cc8-4052-b55b-6edee87f602d",
      "metadata": {
        "id": "4607da17-7cc8-4052-b55b-6edee87f602d"
      },
      "outputs": [],
      "source": [
        "columns = [\"Id\",\"Name\",\"Location\"]"
      ]
    },
    {
      "cell_type": "code",
      "execution_count": null,
      "id": "d240dd03-0a48-439f-b99c-bdeffd86cec0",
      "metadata": {
        "id": "d240dd03-0a48-439f-b99c-bdeffd86cec0"
      },
      "outputs": [],
      "source": [
        "df = spark.createDataFrame( data,columns)"
      ]
    },
    {
      "cell_type": "code",
      "execution_count": null,
      "id": "6bab3094-1ed3-4e61-a317-dd195c872f18",
      "metadata": {
        "id": "6bab3094-1ed3-4e61-a317-dd195c872f18",
        "outputId": "ab08c51b-a07f-4a53-b634-8b053df157e8",
        "colab": {
          "base_uri": "https://localhost:8080/"
        }
      },
      "outputs": [
        {
          "output_type": "stream",
          "name": "stdout",
          "text": [
            "+---+-----+--------+\n",
            "| Id| Name|Location|\n",
            "+---+-----+--------+\n",
            "|  1| John|      NY|\n",
            "|  2| Alan|      DC|\n",
            "|  3|Dabby|      NJ|\n",
            "|  4| Joey|      NY|\n",
            "+---+-----+--------+\n",
            "\n"
          ]
        }
      ],
      "source": [
        "df.show()"
      ]
    },
    {
      "cell_type": "code",
      "source": [
        "df.describe()"
      ],
      "metadata": {
        "colab": {
          "base_uri": "https://localhost:8080/"
        },
        "id": "vh4hRBiTrqV2",
        "outputId": "be1289fe-ac0b-4f2f-8e7c-1953cb9e3e37"
      },
      "id": "vh4hRBiTrqV2",
      "execution_count": null,
      "outputs": [
        {
          "output_type": "execute_result",
          "data": {
            "text/plain": [
              "DataFrame[summary: string, Id: string, Name: string, Location: string]"
            ]
          },
          "metadata": {},
          "execution_count": 19
        }
      ]
    },
    {
      "cell_type": "code",
      "source": [
        "df.printSchema()"
      ],
      "metadata": {
        "colab": {
          "base_uri": "https://localhost:8080/"
        },
        "id": "UZ5PZZwUrtvb",
        "outputId": "3359b15a-8575-4fbe-a7d2-9d4d9f5d2175"
      },
      "id": "UZ5PZZwUrtvb",
      "execution_count": null,
      "outputs": [
        {
          "output_type": "stream",
          "name": "stdout",
          "text": [
            "root\n",
            " |-- Id: long (nullable = true)\n",
            " |-- Name: string (nullable = true)\n",
            " |-- Location: string (nullable = true)\n",
            "\n"
          ]
        }
      ]
    },
    {
      "cell_type": "markdown",
      "source": [
        "Creating PySpark DataFrame from multiple lists"
      ],
      "metadata": {
        "id": "OlRSoRIFKOIV"
      },
      "id": "OlRSoRIFKOIV"
    },
    {
      "cell_type": "code",
      "source": [
        "Id  = [1,2,3,4]\n",
        "Name = [\"John\",\"Alan\",\"Dabby\",\"Joey\"]\n",
        "Location = [\"NY\",\"DC\",\"NJ\",\"NY\"]"
      ],
      "metadata": {
        "id": "-dk60hBJeIUx"
      },
      "id": "-dk60hBJeIUx",
      "execution_count": null,
      "outputs": []
    },
    {
      "cell_type": "markdown",
      "source": [
        "zipping lists into single dataframe"
      ],
      "metadata": {
        "id": "PL3UR0KSE8iA"
      },
      "id": "PL3UR0KSE8iA"
    },
    {
      "cell_type": "code",
      "source": [
        "df1 = spark.createDataFrame(zip(Id,Name,Location),[\"Id\",\"Name\",\"Location\"])"
      ],
      "metadata": {
        "id": "JVAtv60iD1ew"
      },
      "id": "JVAtv60iD1ew",
      "execution_count": null,
      "outputs": []
    },
    {
      "cell_type": "code",
      "source": [
        "df1.show()"
      ],
      "metadata": {
        "colab": {
          "base_uri": "https://localhost:8080/"
        },
        "id": "GIYktoLOEQdR",
        "outputId": "42b7f366-79dd-4a76-f599-0a86c33876d2"
      },
      "id": "GIYktoLOEQdR",
      "execution_count": null,
      "outputs": [
        {
          "output_type": "stream",
          "name": "stdout",
          "text": [
            "+---+-----+--------+\n",
            "| Id| Name|Location|\n",
            "+---+-----+--------+\n",
            "|  1| John|      NY|\n",
            "|  2| Alan|      DC|\n",
            "|  3|Dabby|      NJ|\n",
            "|  4| Joey|      NY|\n",
            "+---+-----+--------+\n",
            "\n"
          ]
        }
      ]
    },
    {
      "cell_type": "markdown",
      "source": [
        "creating dataframe by defining schema"
      ],
      "metadata": {
        "id": "HOgcGEIoo8sq"
      },
      "id": "HOgcGEIoo8sq"
    },
    {
      "cell_type": "code",
      "source": [
        "from pyspark.sql.types import *"
      ],
      "metadata": {
        "id": "LWcR7rQapV2i"
      },
      "id": "LWcR7rQapV2i",
      "execution_count": null,
      "outputs": []
    },
    {
      "cell_type": "code",
      "source": [
        "customer1=[1,\"John\",\"NY\"]\n",
        "customer2=[2,\"Alan\",\"DC\"]\n",
        "customer3=[3,\"Dabby\",\"NJ\"]\n",
        "customer4=[4,\"Joey\",\"NY\"]"
      ],
      "metadata": {
        "id": "sf7KizFLE5gU"
      },
      "id": "sf7KizFLE5gU",
      "execution_count": null,
      "outputs": []
    },
    {
      "cell_type": "code",
      "source": [
        "schema = StructType([\n",
        "    StructField(\"Id\", IntegerType(), True),\n",
        "    StructField(\"Name\", StringType(), True),\n",
        "    StructField(\"Location\", StringType(), True)\n",
        "])"
      ],
      "metadata": {
        "id": "EQ8jBmtypP_S"
      },
      "id": "EQ8jBmtypP_S",
      "execution_count": null,
      "outputs": []
    },
    {
      "cell_type": "markdown",
      "source": [
        "converting list to tuple"
      ],
      "metadata": {
        "id": "cvvlIiGDqjA3"
      },
      "id": "cvvlIiGDqjA3"
    },
    {
      "cell_type": "code",
      "source": [
        "data = [tuple(customer1),\n",
        "        tuple(customer2),\n",
        "        tuple(customer3),\n",
        "        tuple(customer4)]"
      ],
      "metadata": {
        "id": "8RhUaYeJqiC7"
      },
      "id": "8RhUaYeJqiC7",
      "execution_count": null,
      "outputs": []
    },
    {
      "cell_type": "code",
      "source": [
        "df2 = spark.createDataFrame(data,schema= schema)"
      ],
      "metadata": {
        "id": "5Xom8R9jpQ2q"
      },
      "id": "5Xom8R9jpQ2q",
      "execution_count": null,
      "outputs": []
    },
    {
      "cell_type": "code",
      "source": [
        "df2.show()"
      ],
      "metadata": {
        "colab": {
          "base_uri": "https://localhost:8080/"
        },
        "id": "MpbkHabXq2aC",
        "outputId": "c362ed84-a759-46e5-a726-2f9af5a662c6"
      },
      "id": "MpbkHabXq2aC",
      "execution_count": null,
      "outputs": [
        {
          "output_type": "stream",
          "name": "stdout",
          "text": [
            "+---+-----+--------+\n",
            "| Id| Name|Location|\n",
            "+---+-----+--------+\n",
            "|  1| John|      NY|\n",
            "|  2| Alan|      DC|\n",
            "|  3|Dabby|      NJ|\n",
            "|  4| Joey|      NY|\n",
            "+---+-----+--------+\n",
            "\n"
          ]
        }
      ]
    },
    {
      "cell_type": "markdown",
      "source": [
        "Create DataFrame from Dictionary"
      ],
      "metadata": {
        "id": "7EzSPymfKhpd"
      },
      "id": "7EzSPymfKhpd"
    },
    {
      "cell_type": "code",
      "source": [
        "data = [('James',{'hair':'brown','eyes':'black'}),\n",
        "        ('Joey',{'hair':'blonde','eyes':'brown'}),\n",
        "        ('Sammy',{'hair':'red','eyes':None}),\n",
        "        ('Rachel',{'hair':'black','eyes':'black'}),\n",
        "        ('John',{'hair':'black','eyes':''})]"
      ],
      "metadata": {
        "id": "T124_MKZtEPa"
      },
      "id": "T124_MKZtEPa",
      "execution_count": 4,
      "outputs": []
    },
    {
      "cell_type": "code",
      "source": [
        "dict_df= spark.createDataFrame(data = data, schema = ['Name','Properties'])"
      ],
      "metadata": {
        "id": "RtEtgqJ5KPX2"
      },
      "id": "RtEtgqJ5KPX2",
      "execution_count": 5,
      "outputs": []
    },
    {
      "cell_type": "code",
      "source": [
        "dict_df.show()"
      ],
      "metadata": {
        "colab": {
          "base_uri": "https://localhost:8080/"
        },
        "id": "82SzCYC0KeZR",
        "outputId": "fb04907a-92b9-44c9-f863-066157cdc5ad"
      },
      "id": "82SzCYC0KeZR",
      "execution_count": 6,
      "outputs": [
        {
          "output_type": "stream",
          "name": "stdout",
          "text": [
            "+------+--------------------+\n",
            "|  Name|          Properties|\n",
            "+------+--------------------+\n",
            "| James|{eyes -> black, h...|\n",
            "|  Joey|{eyes -> brown, h...|\n",
            "| Sammy|{eyes -> NULL, ha...|\n",
            "|Rachel|{eyes -> black, h...|\n",
            "|  John|{eyes -> , hair -...|\n",
            "+------+--------------------+\n",
            "\n"
          ]
        }
      ]
    },
    {
      "cell_type": "code",
      "source": [
        "dict_df.printSchema()"
      ],
      "metadata": {
        "colab": {
          "base_uri": "https://localhost:8080/"
        },
        "id": "pvXlAQ3yKrZE",
        "outputId": "70e35100-e93a-4025-b1a5-d3734a83b2f4"
      },
      "id": "pvXlAQ3yKrZE",
      "execution_count": 8,
      "outputs": [
        {
          "output_type": "stream",
          "name": "stdout",
          "text": [
            "root\n",
            " |-- Name: string (nullable = true)\n",
            " |-- Properties: map (nullable = true)\n",
            " |    |-- key: string\n",
            " |    |-- value: string (valueContainsNull = true)\n",
            "\n"
          ]
        }
      ]
    },
    {
      "cell_type": "markdown",
      "source": [
        "creating dataframe by defining schema"
      ],
      "metadata": {
        "id": "xYKuG9c0LScp"
      },
      "id": "xYKuG9c0LScp"
    },
    {
      "cell_type": "code",
      "source": [
        "from pyspark.sql.types import *\n",
        "schema = StructType([StructField('Name',StringType(),True),\n",
        "                     StructField('Properties',MapType(StringType(),StringType()),True)])\n"
      ],
      "metadata": {
        "id": "uep-POtQLg2z"
      },
      "id": "uep-POtQLg2z",
      "execution_count": 13,
      "outputs": []
    },
    {
      "cell_type": "code",
      "source": [
        "dict_df1 = spark.createDataFrame(data=data, schema =schema)"
      ],
      "metadata": {
        "id": "lxglUirmKxZs"
      },
      "id": "lxglUirmKxZs",
      "execution_count": 19,
      "outputs": []
    },
    {
      "cell_type": "code",
      "source": [
        "dict_df1.show()"
      ],
      "metadata": {
        "colab": {
          "base_uri": "https://localhost:8080/"
        },
        "id": "gqa1RmpPMhGa",
        "outputId": "5b583c5b-bf3c-4565-b089-1b22cdba7e77"
      },
      "id": "gqa1RmpPMhGa",
      "execution_count": 20,
      "outputs": [
        {
          "output_type": "stream",
          "name": "stdout",
          "text": [
            "+------+--------------------+\n",
            "|  Name|          Properties|\n",
            "+------+--------------------+\n",
            "| James|{eyes -> black, h...|\n",
            "|  Joey|{eyes -> brown, h...|\n",
            "| Sammy|{eyes -> NULL, ha...|\n",
            "|Rachel|{eyes -> black, h...|\n",
            "|  John|{eyes -> , hair -...|\n",
            "+------+--------------------+\n",
            "\n"
          ]
        }
      ]
    },
    {
      "cell_type": "code",
      "source": [
        "dict_df1.printSchema()"
      ],
      "metadata": {
        "colab": {
          "base_uri": "https://localhost:8080/"
        },
        "id": "xntaa9A6MjB4",
        "outputId": "cd9c4665-4cf6-4fbf-f432-cc088a334b6d"
      },
      "id": "xntaa9A6MjB4",
      "execution_count": 21,
      "outputs": [
        {
          "output_type": "stream",
          "name": "stdout",
          "text": [
            "root\n",
            " |-- Name: string (nullable = true)\n",
            " |-- Properties: map (nullable = true)\n",
            " |    |-- key: string\n",
            " |    |-- value: string (valueContainsNull = true)\n",
            "\n"
          ]
        }
      ]
    },
    {
      "cell_type": "markdown",
      "source": [
        "Extracting data from dataframe"
      ],
      "metadata": {
        "id": "FqpaL1z-NPzA"
      },
      "id": "FqpaL1z-NPzA"
    },
    {
      "cell_type": "code",
      "source": [
        "dict_df1 = dict_df1.withColumn('hair',dict_df1.Properties.getItem('hair'))\\\n",
        ".withColumn('eyes',dict_df1.Properties.getItem('eyes'))\\\n",
        ".drop(\"Properties\")"
      ],
      "metadata": {
        "id": "g1JAd5VwMo18"
      },
      "id": "g1JAd5VwMo18",
      "execution_count": 27,
      "outputs": []
    },
    {
      "cell_type": "code",
      "source": [
        "dict_df1.show()"
      ],
      "metadata": {
        "colab": {
          "base_uri": "https://localhost:8080/"
        },
        "id": "8D7YCDYINu6u",
        "outputId": "15f7924d-36f9-45ba-f89a-e649b3236d6c"
      },
      "id": "8D7YCDYINu6u",
      "execution_count": 28,
      "outputs": [
        {
          "output_type": "stream",
          "name": "stdout",
          "text": [
            "+------+------+-----+\n",
            "|  Name|  hair| eyes|\n",
            "+------+------+-----+\n",
            "| James| brown|black|\n",
            "|  Joey|blonde|brown|\n",
            "| Sammy|   red| NULL|\n",
            "|Rachel| black|black|\n",
            "|  John| black|     |\n",
            "+------+------+-----+\n",
            "\n"
          ]
        }
      ]
    },
    {
      "cell_type": "code",
      "source": [
        "dict_df1.printSchema()"
      ],
      "metadata": {
        "colab": {
          "base_uri": "https://localhost:8080/"
        },
        "id": "WD0jBYiJOhW5",
        "outputId": "46205078-26d5-47d3-e41a-eadf0f3f0fd4"
      },
      "id": "WD0jBYiJOhW5",
      "execution_count": 29,
      "outputs": [
        {
          "output_type": "stream",
          "name": "stdout",
          "text": [
            "root\n",
            " |-- Name: string (nullable = true)\n",
            " |-- hair: string (nullable = true)\n",
            " |-- eyes: string (nullable = true)\n",
            "\n"
          ]
        }
      ]
    },
    {
      "cell_type": "code",
      "source": [],
      "metadata": {
        "id": "IkBHmIxfOmGB"
      },
      "id": "IkBHmIxfOmGB",
      "execution_count": null,
      "outputs": []
    }
  ],
  "metadata": {
    "kernelspec": {
      "display_name": "Python 3 (ipykernel)",
      "language": "python",
      "name": "python3"
    },
    "language_info": {
      "codemirror_mode": {
        "name": "ipython",
        "version": 3
      },
      "file_extension": ".py",
      "mimetype": "text/x-python",
      "name": "python",
      "nbconvert_exporter": "python",
      "pygments_lexer": "ipython3",
      "version": "3.10.11"
    },
    "colab": {
      "provenance": [],
      "include_colab_link": true
    }
  },
  "nbformat": 4,
  "nbformat_minor": 5
}